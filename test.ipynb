{
 "cells": [
  {
   "cell_type": "code",
   "execution_count": null,
   "metadata": {},
   "outputs": [],
   "source": [
    "model = SRResNet()\n",
    "\n",
    "model.load_state_dict(torch.load('/content/drive/MyDrive/DEEP/models/best_model.pt'))\n",
    "\n",
    "# Set the model to evaluation mode\n",
    "model.eval()\n",
    "\n",
    "input_tensor = input_img\n",
    "input_tensor = input_tensor.unsqueeze(0)\n",
    "\n",
    "with torch.no_grad():\n",
    "    output_tensor = model(input_tensor)\n",
    "    output_tensor = output_tensor.squeeze(0)\n",
    "\n",
    "print(\"Output tensor shape:\", output_tensor.shape)\n",
    "final = output_tensor.numpy().transpose(1, 2, 0)\n",
    "inp=input_img.numpy().transpose(1, 2, 0)\n",
    "GT=label_img.numpy().transpose(1, 2, 0)\n",
    "\n",
    "\n",
    "\n",
    "GT=cv2.cvtColor(GT, cv2.COLOR_BGR2RGB)\n",
    "inp = cv2.cvtColor(inp, cv2.COLOR_BGR2RGB)\n",
    "final = cv2.cvtColor(final, cv2.COLOR_BGR2RGB)\n",
    "\n",
    "# Normalize the images\n",
    "inp = colors.Normalize()(inp)\n",
    "final = colors.Normalize()(final)\n",
    "GT=colors.Normalize()(GT)\n",
    "\n",
    "plt.figure(figsize=(8, 8))\n",
    "plt.imshow(inp)\n",
    "plt.title(\"input\")\n",
    "plt.axis(\"off\")\n",
    "plt.show()\n",
    "\n",
    "plt.figure(figsize=(8, 8))\n",
    "plt.imshow(GT)\n",
    "plt.title(\"GT\")\n",
    "plt.axis(\"off\")\n",
    "plt.show()\n",
    "\n",
    "# Plot Sentinel 10m image\n",
    "plt.figure(figsize=(8, 8))\n",
    "plt.imshow(final)\n",
    "plt.title(\"output\")\n",
    "plt.axis(\"off\")\n",
    "plt.show()"
   ]
  }
 ],
 "metadata": {
  "language_info": {
   "name": "python"
  }
 },
 "nbformat": 4,
 "nbformat_minor": 2
}
