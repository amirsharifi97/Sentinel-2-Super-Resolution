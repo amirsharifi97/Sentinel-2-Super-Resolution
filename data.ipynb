{
 "cells": [
  {
   "cell_type": "code",
   "execution_count": null,
   "metadata": {},
   "outputs": [],
   "source": [
    "img = torch.load('/content/drive/MyDrive/DEEP/dataset/naryn_imgs.pt')\n",
    "label = torch.load('/content/drive/MyDrive/DEEP/dataset/naryn_labels.pt')\n",
    "test_img=torch.load('/content/drive/MyDrive/DEEP/dataset/test_imgs.pt')\n",
    "test_labels=torch.load('/content/drive/MyDrive/DEEP/dataset/test_labels.pt')\n",
    "device = torch.device(\"cuda\" if torch.cuda.is_available() else \"cpu\")\n",
    "\n",
    "model = SRResNet().to(device)\n",
    "perceptual_loss = PerceptualLoss().to(device)\n",
    "data = list(zip(img, label))\n",
    "# random.shuffle(data)\n",
    "split_idx = int(0.8 * len(data))\n",
    "train_data = data[:split_idx]\n",
    "val_data = data[split_idx:]\n",
    "train_img, train_label = zip(*train_data)\n",
    "val_img, val_label = zip(*val_data)\n",
    "\n",
    "# Convert to tensors and move to the device\n",
    "train_img = torch.stack(train_img).to(device)\n",
    "train_label = torch.stack(train_label).to(device)\n",
    "val_img = torch.stack(val_img).to(device)\n",
    "val_label = torch.stack(val_label).to(device)\n",
    "test_img.to(device)\n",
    "test_labels.to(device)"
   ]
  }
 ],
 "metadata": {
  "language_info": {
   "name": "python"
  }
 },
 "nbformat": 4,
 "nbformat_minor": 2
}
